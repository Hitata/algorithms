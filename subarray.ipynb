{
 "cells": [
  {
   "cell_type": "markdown",
   "metadata": {},
   "source": [
    "## Problem Statement\n",
    "Given an array of integers and a number k, find the maximum sum of a subarray of size k.\n",
    "### Output\n",
    "- return maximum sum & sub array set\n",
    "\n",
    "### Others\n",
    "- return minium sum"
   ]
  },
  {
   "cell_type": "markdown",
   "metadata": {},
   "source": [
    "## Approach\n",
    "- sub array\n",
    "- sum\n",
    "- maximum, minimum"
   ]
  },
  {
   "cell_type": "code",
   "execution_count": 12,
   "metadata": {},
   "outputs": [
    {
     "name": "stdout",
     "output_type": "stream",
     "text": [
      "[7, 18, 16, 4, 11, 55]\n"
     ]
    }
   ],
   "source": [
    "arr = [7, 18, 16, 4, 11, 55]\n",
    "k = 3 # subarray size\n",
    "print(arr)"
   ]
  },
  {
   "cell_type": "code",
   "execution_count": 13,
   "metadata": {},
   "outputs": [
    {
     "name": "stdout",
     "output_type": "stream",
     "text": [
      "Maximum sum & set: (70, [4, 11, 55])\n"
     ]
    }
   ],
   "source": [
    "# Slide window solution\n",
    "\n",
    "arr = [8, 18, 16, 4, 11, 55]\n",
    "k = 3 # subarray size\n",
    "\n",
    "# slide the window over the array\n",
    "def max_sum_subarray(arr, k):\n",
    "    # initialize variables\n",
    "    max_sum = float('-inf')\n",
    "    window_sum = sum(arr[:k])\n",
    "    start = 0\n",
    "\n",
    "    # slide the window over the array\n",
    "    for i in range(k, len(arr)):\n",
    "        window_sum += arr[i] - arr[i-k]\n",
    "        if window_sum > max_sum:\n",
    "            max_sum = window_sum\n",
    "            start = i - k + 1\n",
    "\n",
    "    return max_sum, arr[start:start+k]\n",
    "\n",
    "print(\"Maximum sum & set:\", max_sum_subarray(arr, k))\n"
   ]
  },
  {
   "cell_type": "code",
   "execution_count": 16,
   "metadata": {},
   "outputs": [
    {
     "name": "stdout",
     "output_type": "stream",
     "text": [
      "Maximum sum: (70, 55)\n"
     ]
    }
   ],
   "source": [
    "# Dynamic Slide window solution\n",
    "\n",
    "def dynamic_max_sum_subarray(arr, k):\n",
    "    # initialize variables\n",
    "    max_sum = float('-inf')\n",
    "    window_sum = 0\n",
    "    start = 0\n",
    "\n",
    "    # slide the window over the array\n",
    "    for end in range(len(arr)):\n",
    "        # add the next element to the window sum\n",
    "        window_sum += arr[end]\n",
    "\n",
    "        if end >= k:\n",
    "            window_sum -= arr[start]\n",
    "            start += 1\n",
    "\n",
    "        # update the maximum sum if necessary\n",
    "        if end >= k - 1 and window_sum > max_sum:\n",
    "            max_sum = window_sum\n",
    "\n",
    "    return max_sum,arr[end]\n",
    "\n",
    "arr = [7, 18, 16, 4, 11, 55]\n",
    "k = 3 # subarray size\n",
    "print(\"Maximum sum:\", dynamic_max_sum_subarray(arr, k))\n"
   ]
  },
  {
   "cell_type": "code",
   "execution_count": 15,
   "metadata": {},
   "outputs": [
    {
     "name": "stdout",
     "output_type": "stream",
     "text": [
      "max_sum_subarray time: 0.8376289169973461\n",
      "dynamic_max_sum_subarray time: 0.2835020829952555\n"
     ]
    }
   ],
   "source": [
    "import timeit\n",
    "\n",
    "arr = [7, 18, 16, 4, 11, 55]\n",
    "k = 3 # subarray size\n",
    "\n",
    "# time the max_sum_subarray function\n",
    "t1 = timeit.timeit(lambda: max_sum_subarray(arr, k), number=100000)\n",
    "print(\"max_sum_subarray time:\", t1)\n",
    "\n",
    "# time the dynamic_max_sum_subarray function\n",
    "t2 = timeit.timeit(lambda: dynamic_max_sum_subarray(arr, k), number=100000)\n",
    "print(\"dynamic_max_sum_subarray time:\", t2)\n"
   ]
  }
 ],
 "metadata": {
  "kernelspec": {
   "display_name": ".venv",
   "language": "python",
   "name": "python3"
  },
  "language_info": {
   "codemirror_mode": {
    "name": "ipython",
    "version": 3
   },
   "file_extension": ".py",
   "mimetype": "text/x-python",
   "name": "python",
   "nbconvert_exporter": "python",
   "pygments_lexer": "ipython3",
   "version": "3.11.5"
  }
 },
 "nbformat": 4,
 "nbformat_minor": 2
}
